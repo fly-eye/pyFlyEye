{
 "cells": [
  {
   "cell_type": "markdown",
   "metadata": {},
   "source": [
    "In this notebook we will use boto to load each image from the bucket and store its metadata. We will create an inventory file which contains some useful properties of the images (such as dimensions, size, etc.). This notebook should be run from an ec2 instance, otherwise one will be charged for data egress. Ideally, we should find a solution which does not require downloading the files, but only extracting the metadata."
   ]
  },
  {
   "cell_type": "code",
   "execution_count": 1,
   "metadata": {},
   "outputs": [],
   "source": [
    "import boto3"
   ]
  },
  {
   "cell_type": "code",
   "execution_count": 2,
   "metadata": {},
   "outputs": [],
   "source": [
    "import pandas as pd"
   ]
  },
  {
   "cell_type": "code",
   "execution_count": 3,
   "metadata": {},
   "outputs": [],
   "source": [
    "import os"
   ]
  },
  {
   "cell_type": "code",
   "execution_count": 4,
   "metadata": {},
   "outputs": [],
   "source": [
    "import tempfile"
   ]
  },
  {
   "cell_type": "code",
   "execution_count": 5,
   "metadata": {},
   "outputs": [],
   "source": [
    "from skimage.external import tifffile"
   ]
  },
  {
   "cell_type": "code",
   "execution_count": 6,
   "metadata": {},
   "outputs": [],
   "source": [
    "import json"
   ]
  },
  {
   "cell_type": "code",
   "execution_count": 7,
   "metadata": {},
   "outputs": [],
   "source": [
    "session = boto3.Session(profile_name='default')\n",
    "s3_resource = session.resource('s3')"
   ]
  },
  {
   "cell_type": "code",
   "execution_count": 8,
   "metadata": {},
   "outputs": [],
   "source": [
    "cornea_bucket = s3_resource.Bucket('cornea-bucket')"
   ]
  },
  {
   "cell_type": "code",
   "execution_count": 9,
   "metadata": {},
   "outputs": [],
   "source": [
    "# get a list of all filenames in the bucket\n",
    "files = cornea_bucket.objects.all()"
   ]
  },
  {
   "cell_type": "code",
   "execution_count": 8,
   "metadata": {},
   "outputs": [],
   "source": [
    "# local system names\n",
    "TEMP_UPLOAD_SPACE = '/home/ubuntu/test_mount'\n",
    "INVENTORY_FILE = os.path.join('data','metadata','inventory.csv')\n",
    "METADATA = os.path.join('data','metadata')\n",
    "\n",
    "if not os.path.isdir(METADATA):\n",
    "    os.mkdir(METADATA)"
   ]
  },
  {
   "cell_type": "code",
   "execution_count": 11,
   "metadata": {},
   "outputs": [],
   "source": [
    "# a function to extract metadata from a tif file\n",
    "\n",
    "def read_metadata(filename):\n",
    "    \"\"\"\n",
    "    read_metadata extracts metadata from a tif file and stores it into a dictionary.\n",
    "    \n",
    "    Each tag becomes a key in the dictionary. \n",
    "    \n",
    "    Sometimes the image_description contains extra information in separate fields.\n",
    "    \n",
    "    Those are split into their own dictionary fields.\n",
    "    The formats of the important fields are converted from strings to the corresponding types.\n",
    "    \n",
    "    images,channels,slices: integer\n",
    "    hyperstack: boolean\n",
    "    strip_byte_counts: renamed to sizeInGB and values are converted from bytes to Gigabytes.\n",
    "    \n",
    "    Output: d dictionary\n",
    "    \n",
    "    \"\"\"\n",
    "    \n",
    "    d = {} #dictionary to store the metadata\n",
    "    \n",
    "    with tifffile.TiffFile(filename) as tif:\n",
    "        for page in tif:\n",
    "            for tag in page.tags.values():\n",
    "                # the image_description field contains extra imagej info\n",
    "                if tag.name == 'image_description':\n",
    "                    for item in tag.value.decode('ASCII').split('\\n')[:-1]:\n",
    "                        key, value = item.split('=')\n",
    "                        \n",
    "                        \n",
    "                        # converting the variables to the correct type (not converting all variables)\n",
    "                        if key in ['images','channels','slices']:\n",
    "                            d[key] = int(value)\n",
    "                        elif key == 'hyperstack':\n",
    "                            d[key] = bool(value)\n",
    "                        else:\n",
    "                            d[key] = value\n",
    "                else:\n",
    "                    if tag.name == 'strip_byte_counts':\n",
    "                        d['sizeInGB'] = float(tag.value[0])/1000000000.\n",
    "                    else:\n",
    "                        d[tag.name] = str(tag.value)\n",
    "    return(d)"
   ]
  },
  {
   "cell_type": "code",
   "execution_count": 12,
   "metadata": {},
   "outputs": [],
   "source": [
    "# a function to extract the metadata from the tif file and convert it to a dataframe row\n",
    "\n",
    "def process_tif(filename, label):\n",
    "    \"\"\"\n",
    "    process_tif extracts metadata from a tif file and converts it to a one-row dataframe\n",
    "    \n",
    "          |image_width | image_length | channels | slices | hyperstack | sizeInGB\n",
    "    ------|-----------------------------------------------------------------------\n",
    "    label |            |              |          |        |            |       \n",
    "    \n",
    "    if a field is missing in the metadata dictionary for a particular file, the cell left empty.\n",
    "    \n",
    "    The label provided becomes an index to the row.\n",
    "    \n",
    "    Output: df pandas dataframe\n",
    "    \n",
    "    \"\"\"\n",
    "    \n",
    "    d = read_metadata(filename)\n",
    "    \n",
    "    \n",
    "    # dump the metadata to a json file\n",
    "    \n",
    "    metadata_filename = os.path.join(METADATA,label.split('/')[-1].split('.')[0] +'_metadata.txt')\n",
    "    with open(metadata_filename, 'w') as file:\n",
    "        json.dump(d, file)\n",
    "    \n",
    "    # create a small dictionary with only a few important fields\n",
    "    small_d = {}\n",
    "\n",
    "    for key in ['image_width','image_length','channels','slices', 'hyperstack', 'sizeInGB']:\n",
    "        if key in d.keys():\n",
    "            small_d[key] = d[key]\n",
    "        else:\n",
    "            small_d[key] = None\n",
    "    \n",
    "    # convert dictionary to data frame\n",
    "    df = pd.DataFrame(small_d,index = [label])\n",
    "    \n",
    "    return(df)\n"
   ]
  },
  {
   "cell_type": "code",
   "execution_count": 13,
   "metadata": {},
   "outputs": [],
   "source": [
    "# we will exclude the folders which have tiff sequences\n",
    "exclude_list = ['Lepto_fovea', 'Lepto_head_lowres', 'Holco_Scan53_fly1']"
   ]
  },
  {
   "cell_type": "code",
   "execution_count": null,
   "metadata": {},
   "outputs": [],
   "source": []
  },
  {
   "cell_type": "code",
   "execution_count": 14,
   "metadata": {},
   "outputs": [],
   "source": [
    "# list of all tif filenames\n",
    "tif_files = []\n",
    "tif_files_done = []"
   ]
  },
  {
   "cell_type": "code",
   "execution_count": null,
   "metadata": {},
   "outputs": [],
   "source": [
    "%%time\n",
    "# a loop which reads through all tif files (except from the sequences)\n",
    "# TODO: test tif_files_done if connections is inte\n",
    "\n",
    "for file in files:\n",
    "    \n",
    "    # exclude files in the exclude list\n",
    "    exclude = False\n",
    "    for name in exclude_list:\n",
    "        if name in file.key:\n",
    "            exclude = True\n",
    "            \n",
    "    if not exclude:\n",
    "        if file.key.endswith('tif'):\n",
    "            tif_files.append(file.key)\n",
    "            \n",
    "            # we will store the temporary files a mounted volume which has more space\n",
    "            with tempfile.NamedTemporaryFile(dir=TEMP_UPLOAD_SPACE) as temp_file:\n",
    "                if file.key not in tif_files_done:\n",
    "                    \n",
    "                    # download files from s3 bucket (should find a way to avoid downloading)\n",
    "                    cornea_bucket.download_file(file.key, temp_file.name)\n",
    "                    tif = tifffile.TiffFile(temp_file.name)\n",
    "                    print(tif.info())\n",
    "                    \n",
    "                    # process the metadata\n",
    "                    df = process_tif(temp_file.name, file.key)\n",
    "                    if os.path.isfile(INVENTORY_FILE): \n",
    "                        df.to_csv(INVENTORY_FILE, mode = 'a', header = None)\n",
    "                    else:\n",
    "                        df.to_csv(INVENTORY_FILE)\n",
    "                        \n",
    "                    tif_files_done.append(file.key)\n",
    "             "
   ]
  },
  {
   "cell_type": "code",
   "execution_count": 13,
   "metadata": {},
   "outputs": [
    {
     "data": {
      "text/html": [
       "<div>\n",
       "<style scoped>\n",
       "    .dataframe tbody tr th:only-of-type {\n",
       "        vertical-align: middle;\n",
       "    }\n",
       "\n",
       "    .dataframe tbody tr th {\n",
       "        vertical-align: top;\n",
       "    }\n",
       "\n",
       "    .dataframe thead th {\n",
       "        text-align: right;\n",
       "    }\n",
       "</style>\n",
       "<table border=\"1\" class=\"dataframe\">\n",
       "  <thead>\n",
       "    <tr style=\"text-align: right;\">\n",
       "      <th></th>\n",
       "      <th>image_width</th>\n",
       "      <th>image_length</th>\n",
       "      <th>channels</th>\n",
       "      <th>slices</th>\n",
       "      <th>hyperstack</th>\n",
       "      <th>sizeInGB</th>\n",
       "    </tr>\n",
       "  </thead>\n",
       "  <tbody>\n",
       "    <tr>\n",
       "      <th>Droso_Obscura_45_left_eye/ZSeries-05272015-1754-045_001.tif</th>\n",
       "      <td>512</td>\n",
       "      <td>512</td>\n",
       "      <td>NaN</td>\n",
       "      <td>NaN</td>\n",
       "      <td>NaN</td>\n",
       "      <td>0.000025</td>\n",
       "    </tr>\n",
       "    <tr>\n",
       "      <th>Droso_Obscura_47_right_eye/ZSeries-05272015-1754-047_001.tif</th>\n",
       "      <td>512</td>\n",
       "      <td>512</td>\n",
       "      <td>NaN</td>\n",
       "      <td>NaN</td>\n",
       "      <td>NaN</td>\n",
       "      <td>0.000025</td>\n",
       "    </tr>\n",
       "    <tr>\n",
       "      <th>Droso_Obscura_49/ZSeries-05272015-1754-049_8bit_Opt_Dobs_Reye.tif</th>\n",
       "      <td>512</td>\n",
       "      <td>512</td>\n",
       "      <td>3.0</td>\n",
       "      <td>737.0</td>\n",
       "      <td>True</td>\n",
       "      <td>1.159201</td>\n",
       "    </tr>\n",
       "    <tr>\n",
       "      <th>Fused_ZSeries-11072016-1000-053/Fused_ZSeries-11072016-1000-053.tif</th>\n",
       "      <td>2271</td>\n",
       "      <td>1400</td>\n",
       "      <td>2.0</td>\n",
       "      <td>1071.0</td>\n",
       "      <td>True</td>\n",
       "      <td>13.620550</td>\n",
       "    </tr>\n",
       "    <tr>\n",
       "      <th>Good2sort_Scan48_Dmel_lefteye/ZSeries-05272015-1754-048_8bit_Opt_Dmel_Leye.tif</th>\n",
       "      <td>512</td>\n",
       "      <td>512</td>\n",
       "      <td>3.0</td>\n",
       "      <td>670.0</td>\n",
       "      <td>True</td>\n",
       "      <td>1.053819</td>\n",
       "    </tr>\n",
       "    <tr>\n",
       "      <th>Good2sort_Scan48_Dmel_righteye/ZSeries-05272015-1754-048_8bit_Opt_Dmel_Reye.tif</th>\n",
       "      <td>512</td>\n",
       "      <td>512</td>\n",
       "      <td>3.0</td>\n",
       "      <td>670.0</td>\n",
       "      <td>True</td>\n",
       "      <td>1.053819</td>\n",
       "    </tr>\n",
       "    <tr>\n",
       "      <th>Good2sort_Scan49_Dmel_lefteye/ZSeries-05272015-1754-049_8bit_Opt_Dmel_Leye.tif</th>\n",
       "      <td>512</td>\n",
       "      <td>512</td>\n",
       "      <td>3.0</td>\n",
       "      <td>737.0</td>\n",
       "      <td>True</td>\n",
       "      <td>1.159201</td>\n",
       "    </tr>\n",
       "    <tr>\n",
       "      <th>Holco_030/CompositeFused.tif</th>\n",
       "      <td>1266</td>\n",
       "      <td>856</td>\n",
       "      <td>3.0</td>\n",
       "      <td>678.0</td>\n",
       "      <td>True</td>\n",
       "      <td>2.204238</td>\n",
       "    </tr>\n",
       "    <tr>\n",
       "      <th>Holco_scan027/Fused.tif</th>\n",
       "      <td>1264</td>\n",
       "      <td>1050</td>\n",
       "      <td>3.0</td>\n",
       "      <td>648.0</td>\n",
       "      <td>True</td>\n",
       "      <td>2.580077</td>\n",
       "    </tr>\n",
       "    <tr>\n",
       "      <th>Holco_scan029/Fused.tif</th>\n",
       "      <td>1480</td>\n",
       "      <td>1066</td>\n",
       "      <td>3.0</td>\n",
       "      <td>624.0</td>\n",
       "      <td>True</td>\n",
       "      <td>2.953417</td>\n",
       "    </tr>\n",
       "    <tr>\n",
       "      <th>Scan050/Fused_ZSeries-11062016-1603-050.tif</th>\n",
       "      <td>2817</td>\n",
       "      <td>1442</td>\n",
       "      <td>2.0</td>\n",
       "      <td>1046.0</td>\n",
       "      <td>True</td>\n",
       "      <td>16.995885</td>\n",
       "    </tr>\n",
       "    <tr>\n",
       "      <th>Scan053_fly1_eye1/Fused_ZSeries-11072016-1000-053.tif</th>\n",
       "      <td>2271</td>\n",
       "      <td>1400</td>\n",
       "      <td>2.0</td>\n",
       "      <td>1071.0</td>\n",
       "      <td>True</td>\n",
       "      <td>13.620550</td>\n",
       "    </tr>\n",
       "    <tr>\n",
       "      <th>Scan59_fly2_eye1/Fused_ZSeries-11092016-1049-059.tif</th>\n",
       "      <td>2833</td>\n",
       "      <td>1457</td>\n",
       "      <td>2.0</td>\n",
       "      <td>1093.0</td>\n",
       "      <td>True</td>\n",
       "      <td>18.046221</td>\n",
       "    </tr>\n",
       "    <tr>\n",
       "      <th>Scan60_fly2_eye2/Fused_ZSeries-11092016-1049-060.tif</th>\n",
       "      <td>2832</td>\n",
       "      <td>1445</td>\n",
       "      <td>2.0</td>\n",
       "      <td>1056.0</td>\n",
       "      <td>True</td>\n",
       "      <td>17.285622</td>\n",
       "    </tr>\n",
       "    <tr>\n",
       "      <th>Scan63_fly2_eye1_large/Fused_ZSeries-11122016-1137-063.tif</th>\n",
       "      <td>3275</td>\n",
       "      <td>1898</td>\n",
       "      <td>2.0</td>\n",
       "      <td>1463.0</td>\n",
       "      <td>True</td>\n",
       "      <td>36.375739</td>\n",
       "    </tr>\n",
       "    <tr>\n",
       "      <th>Scan64_Fly2_Eye2_Large/Fused_ZSeries-11122016-1137-064.tif</th>\n",
       "      <td>3281</td>\n",
       "      <td>1910</td>\n",
       "      <td>2.0</td>\n",
       "      <td>1416.0</td>\n",
       "      <td>True</td>\n",
       "      <td>35.494645</td>\n",
       "    </tr>\n",
       "    <tr>\n",
       "      <th>Scan67_Fly2_eye1_side/Fused_ZSeries-12012016-1551-067.tif</th>\n",
       "      <td>2360</td>\n",
       "      <td>1882</td>\n",
       "      <td>2.0</td>\n",
       "      <td>2047.0</td>\n",
       "      <td>True</td>\n",
       "      <td>36.367166</td>\n",
       "    </tr>\n",
       "    <tr>\n",
       "      <th>Scan_046/Fused ZSeries-11032016-1947-046 HolcoZoomNewLens.tif</th>\n",
       "      <td>2430</td>\n",
       "      <td>916</td>\n",
       "      <td>2.0</td>\n",
       "      <td>1028.0</td>\n",
       "      <td>True</td>\n",
       "      <td>9.152819</td>\n",
       "    </tr>\n",
       "    <tr>\n",
       "      <th>Scan_048/Fused_ZSeries-11052016-0711-048.tif</th>\n",
       "      <td>2552</td>\n",
       "      <td>1321</td>\n",
       "      <td>2.0</td>\n",
       "      <td>1034.0</td>\n",
       "      <td>True</td>\n",
       "      <td>13.943250</td>\n",
       "    </tr>\n",
       "    <tr>\n",
       "      <th>Scan_47/Fused_ZSeries-11052016-0711-047.tif</th>\n",
       "      <td>2544</td>\n",
       "      <td>1335</td>\n",
       "      <td>2.0</td>\n",
       "      <td>1047.0</td>\n",
       "      <td>True</td>\n",
       "      <td>14.223453</td>\n",
       "    </tr>\n",
       "    <tr>\n",
       "      <th>Scan_holco2_Scan68/Fused_ZSeries-12022016-2143-068.tif</th>\n",
       "      <td>1898</td>\n",
       "      <td>1883</td>\n",
       "      <td>2.0</td>\n",
       "      <td>2026.0</td>\n",
       "      <td>True</td>\n",
       "      <td>28.963161</td>\n",
       "    </tr>\n",
       "    <tr>\n",
       "      <th>good2sort_Scan45_Dobsura_lefteye/ZSeries-05272015-1754-045_8bit_Opt_DobsLeye.tif</th>\n",
       "      <td>512</td>\n",
       "      <td>512</td>\n",
       "      <td>3.0</td>\n",
       "      <td>626.0</td>\n",
       "      <td>True</td>\n",
       "      <td>0.984613</td>\n",
       "    </tr>\n",
       "    <tr>\n",
       "      <th>good2sort_Scan47_Dobscura_righteye/ZSeries-05272015-1754-047_8bit_Opt_DobsReye.tif</th>\n",
       "      <td>512</td>\n",
       "      <td>512</td>\n",
       "      <td>3.0</td>\n",
       "      <td>626.0</td>\n",
       "      <td>True</td>\n",
       "      <td>0.984613</td>\n",
       "    </tr>\n",
       "    <tr>\n",
       "      <th>goodtosort_043_Dobcura_lefteye_front/ZSeries-05272015-1754-043_8bit_Opt_DobsLeye.tif</th>\n",
       "      <td>512</td>\n",
       "      <td>512</td>\n",
       "      <td>3.0</td>\n",
       "      <td>777.0</td>\n",
       "      <td>True</td>\n",
       "      <td>1.222115</td>\n",
       "    </tr>\n",
       "    <tr>\n",
       "      <th>scan58_fly1_eye1/Fused_ZSeries-11072016-1000-053.tif</th>\n",
       "      <td>2271</td>\n",
       "      <td>1400</td>\n",
       "      <td>2.0</td>\n",
       "      <td>1071.0</td>\n",
       "      <td>True</td>\n",
       "      <td>13.620550</td>\n",
       "    </tr>\n",
       "    <tr>\n",
       "      <th>scan58_fly1_eye2/Fused_ZSeries-11072016-2257-058.tif</th>\n",
       "      <td>2701</td>\n",
       "      <td>1395</td>\n",
       "      <td>2.0</td>\n",
       "      <td>1047.0</td>\n",
       "      <td>True</td>\n",
       "      <td>15.779944</td>\n",
       "    </tr>\n",
       "  </tbody>\n",
       "</table>\n",
       "</div>"
      ],
      "text/plain": [
       "                                                    image_width  image_length  \\\n",
       "Droso_Obscura_45_left_eye/ZSeries-05272015-1754...          512           512   \n",
       "Droso_Obscura_47_right_eye/ZSeries-05272015-175...          512           512   \n",
       "Droso_Obscura_49/ZSeries-05272015-1754-049_8bit...          512           512   \n",
       "Fused_ZSeries-11072016-1000-053/Fused_ZSeries-1...         2271          1400   \n",
       "Good2sort_Scan48_Dmel_lefteye/ZSeries-05272015-...          512           512   \n",
       "Good2sort_Scan48_Dmel_righteye/ZSeries-05272015...          512           512   \n",
       "Good2sort_Scan49_Dmel_lefteye/ZSeries-05272015-...          512           512   \n",
       "Holco_030/CompositeFused.tif                               1266           856   \n",
       "Holco_scan027/Fused.tif                                    1264          1050   \n",
       "Holco_scan029/Fused.tif                                    1480          1066   \n",
       "Scan050/Fused_ZSeries-11062016-1603-050.tif                2817          1442   \n",
       "Scan053_fly1_eye1/Fused_ZSeries-11072016-1000-0...         2271          1400   \n",
       "Scan59_fly2_eye1/Fused_ZSeries-11092016-1049-05...         2833          1457   \n",
       "Scan60_fly2_eye2/Fused_ZSeries-11092016-1049-06...         2832          1445   \n",
       "Scan63_fly2_eye1_large/Fused_ZSeries-11122016-1...         3275          1898   \n",
       "Scan64_Fly2_Eye2_Large/Fused_ZSeries-11122016-1...         3281          1910   \n",
       "Scan67_Fly2_eye1_side/Fused_ZSeries-12012016-15...         2360          1882   \n",
       "Scan_046/Fused ZSeries-11032016-1947-046 HolcoZ...         2430           916   \n",
       "Scan_048/Fused_ZSeries-11052016-0711-048.tif               2552          1321   \n",
       "Scan_47/Fused_ZSeries-11052016-0711-047.tif                2544          1335   \n",
       "Scan_holco2_Scan68/Fused_ZSeries-12022016-2143-...         1898          1883   \n",
       "good2sort_Scan45_Dobsura_lefteye/ZSeries-052720...          512           512   \n",
       "good2sort_Scan47_Dobscura_righteye/ZSeries-0527...          512           512   \n",
       "goodtosort_043_Dobcura_lefteye_front/ZSeries-05...          512           512   \n",
       "scan58_fly1_eye1/Fused_ZSeries-11072016-1000-05...         2271          1400   \n",
       "scan58_fly1_eye2/Fused_ZSeries-11072016-2257-05...         2701          1395   \n",
       "\n",
       "                                                    channels  slices  \\\n",
       "Droso_Obscura_45_left_eye/ZSeries-05272015-1754...       NaN     NaN   \n",
       "Droso_Obscura_47_right_eye/ZSeries-05272015-175...       NaN     NaN   \n",
       "Droso_Obscura_49/ZSeries-05272015-1754-049_8bit...       3.0   737.0   \n",
       "Fused_ZSeries-11072016-1000-053/Fused_ZSeries-1...       2.0  1071.0   \n",
       "Good2sort_Scan48_Dmel_lefteye/ZSeries-05272015-...       3.0   670.0   \n",
       "Good2sort_Scan48_Dmel_righteye/ZSeries-05272015...       3.0   670.0   \n",
       "Good2sort_Scan49_Dmel_lefteye/ZSeries-05272015-...       3.0   737.0   \n",
       "Holco_030/CompositeFused.tif                             3.0   678.0   \n",
       "Holco_scan027/Fused.tif                                  3.0   648.0   \n",
       "Holco_scan029/Fused.tif                                  3.0   624.0   \n",
       "Scan050/Fused_ZSeries-11062016-1603-050.tif              2.0  1046.0   \n",
       "Scan053_fly1_eye1/Fused_ZSeries-11072016-1000-0...       2.0  1071.0   \n",
       "Scan59_fly2_eye1/Fused_ZSeries-11092016-1049-05...       2.0  1093.0   \n",
       "Scan60_fly2_eye2/Fused_ZSeries-11092016-1049-06...       2.0  1056.0   \n",
       "Scan63_fly2_eye1_large/Fused_ZSeries-11122016-1...       2.0  1463.0   \n",
       "Scan64_Fly2_Eye2_Large/Fused_ZSeries-11122016-1...       2.0  1416.0   \n",
       "Scan67_Fly2_eye1_side/Fused_ZSeries-12012016-15...       2.0  2047.0   \n",
       "Scan_046/Fused ZSeries-11032016-1947-046 HolcoZ...       2.0  1028.0   \n",
       "Scan_048/Fused_ZSeries-11052016-0711-048.tif             2.0  1034.0   \n",
       "Scan_47/Fused_ZSeries-11052016-0711-047.tif              2.0  1047.0   \n",
       "Scan_holco2_Scan68/Fused_ZSeries-12022016-2143-...       2.0  2026.0   \n",
       "good2sort_Scan45_Dobsura_lefteye/ZSeries-052720...       3.0   626.0   \n",
       "good2sort_Scan47_Dobscura_righteye/ZSeries-0527...       3.0   626.0   \n",
       "goodtosort_043_Dobcura_lefteye_front/ZSeries-05...       3.0   777.0   \n",
       "scan58_fly1_eye1/Fused_ZSeries-11072016-1000-05...       2.0  1071.0   \n",
       "scan58_fly1_eye2/Fused_ZSeries-11072016-2257-05...       2.0  1047.0   \n",
       "\n",
       "                                                   hyperstack   sizeInGB  \n",
       "Droso_Obscura_45_left_eye/ZSeries-05272015-1754...        NaN   0.000025  \n",
       "Droso_Obscura_47_right_eye/ZSeries-05272015-175...        NaN   0.000025  \n",
       "Droso_Obscura_49/ZSeries-05272015-1754-049_8bit...       True   1.159201  \n",
       "Fused_ZSeries-11072016-1000-053/Fused_ZSeries-1...       True  13.620550  \n",
       "Good2sort_Scan48_Dmel_lefteye/ZSeries-05272015-...       True   1.053819  \n",
       "Good2sort_Scan48_Dmel_righteye/ZSeries-05272015...       True   1.053819  \n",
       "Good2sort_Scan49_Dmel_lefteye/ZSeries-05272015-...       True   1.159201  \n",
       "Holco_030/CompositeFused.tif                             True   2.204238  \n",
       "Holco_scan027/Fused.tif                                  True   2.580077  \n",
       "Holco_scan029/Fused.tif                                  True   2.953417  \n",
       "Scan050/Fused_ZSeries-11062016-1603-050.tif              True  16.995885  \n",
       "Scan053_fly1_eye1/Fused_ZSeries-11072016-1000-0...       True  13.620550  \n",
       "Scan59_fly2_eye1/Fused_ZSeries-11092016-1049-05...       True  18.046221  \n",
       "Scan60_fly2_eye2/Fused_ZSeries-11092016-1049-06...       True  17.285622  \n",
       "Scan63_fly2_eye1_large/Fused_ZSeries-11122016-1...       True  36.375739  \n",
       "Scan64_Fly2_Eye2_Large/Fused_ZSeries-11122016-1...       True  35.494645  \n",
       "Scan67_Fly2_eye1_side/Fused_ZSeries-12012016-15...       True  36.367166  \n",
       "Scan_046/Fused ZSeries-11032016-1947-046 HolcoZ...       True   9.152819  \n",
       "Scan_048/Fused_ZSeries-11052016-0711-048.tif             True  13.943250  \n",
       "Scan_47/Fused_ZSeries-11052016-0711-047.tif              True  14.223453  \n",
       "Scan_holco2_Scan68/Fused_ZSeries-12022016-2143-...       True  28.963161  \n",
       "good2sort_Scan45_Dobsura_lefteye/ZSeries-052720...       True   0.984613  \n",
       "good2sort_Scan47_Dobscura_righteye/ZSeries-0527...       True   0.984613  \n",
       "goodtosort_043_Dobcura_lefteye_front/ZSeries-05...       True   1.222115  \n",
       "scan58_fly1_eye1/Fused_ZSeries-11072016-1000-05...       True  13.620550  \n",
       "scan58_fly1_eye2/Fused_ZSeries-11072016-2257-05...       True  15.779944  "
      ]
     },
     "execution_count": 13,
     "metadata": {},
     "output_type": "execute_result"
    }
   ],
   "source": [
    "inventory = pd.read_csv(INVENTORY_FILE, index_col = 0)\n",
    "inventory[:26]"
   ]
  },
  {
   "cell_type": "code",
   "execution_count": null,
   "metadata": {},
   "outputs": [],
   "source": []
  },
  {
   "cell_type": "markdown",
   "metadata": {},
   "source": [
    "----"
   ]
  },
  {
   "cell_type": "markdown",
   "metadata": {},
   "source": [
    "Extra stuff below:"
   ]
  },
  {
   "cell_type": "code",
   "execution_count": null,
   "metadata": {},
   "outputs": [],
   "source": [
    "%%time\n",
    "# a loop which reads through all tif files (except from the sequences)\n",
    "# TODO: test tif_files_done if connections is inte\n",
    "\n",
    "for file in files:\n",
    "    \n",
    "    # exclude files in the exclude list\n",
    "    exclude = False\n",
    "    for name in exclude_list:\n",
    "        if name in file.key:\n",
    "            exclude = True\n",
    "            \n",
    "    if exclude:\n",
    "        if file.key.endswith('tif'):\n",
    "            tif_files.append(file.key)\n",
    "            \n",
    "            # we will store the temporary files a mounted volume which has more space\n",
    "            with tempfile.NamedTemporaryFile(dir=TEMP_UPLOAD_SPACE) as temp_file:\n",
    "                if file.key not in tif_files_done:\n",
    "                    \n",
    "                    # download files from s3 bucket (should find a way to avoid downloading)\n",
    "                    cornea_bucket.download_file(file.key, temp_file.name)\n",
    "                    tif = tifffile.TiffFile(temp_file.name)\n",
    "                    print(tif.info())\n",
    "                    \n",
    "                    # process the metadata\n",
    "                    df = process_tif(temp_file.name, file.key)\n",
    "                    if os.path.isfile(INVENTORY_FILE): \n",
    "                        df.to_csv(INVENTORY_FILE, mode = 'a', header = None)\n",
    "                    else:\n",
    "                        df.to_csv(INVENTORY_FILE)\n",
    "                        \n",
    "                    tif_files_done.append(file.key)\n",
    "             "
   ]
  },
  {
   "cell_type": "code",
   "execution_count": null,
   "metadata": {},
   "outputs": [],
   "source": [
    "# tempfile will not work as this will mess up the structure of the tiff sequence\n",
    "# what I need is the number \n",
    "tifffile.TiffSequence()"
   ]
  },
  {
   "cell_type": "code",
   "execution_count": null,
   "metadata": {},
   "outputs": [],
   "source": [
    "# print('s3-amazonaws.com/cornea-bucket/'+test_name)"
   ]
  },
  {
   "cell_type": "code",
   "execution_count": null,
   "metadata": {},
   "outputs": [],
   "source": [
    "#tif = open('s3-amazonaws.com/cornea-bucket/'+test_name)\n",
    "#tif = open('s3://cornea-bucket/'+'home/ubuntu/'+test_name)\n",
    "tif = tifffile.TiffFile('http://cornea-bucket.s3.amazonaws.com/Scan050/Fused_ZSeries-11062016-1603-050.tif')\n",
    "#tif = tifffile.TiffFile('s3://cornea-bucket/Scan050/Fused_ZSeries-11062016-1603-050.tif')"
   ]
  },
  {
   "cell_type": "code",
   "execution_count": null,
   "metadata": {},
   "outputs": [],
   "source": [
    "tif = tifffile.TiffFile('s3://cornea-bucket/Scan050/Fused_ZSeries-11062016-1603-050.tif')"
   ]
  },
  {
   "cell_type": "code",
   "execution_count": null,
   "metadata": {},
   "outputs": [],
   "source": []
  },
  {
   "cell_type": "code",
   "execution_count": null,
   "metadata": {},
   "outputs": [],
   "source": []
  },
  {
   "cell_type": "code",
   "execution_count": null,
   "metadata": {},
   "outputs": [],
   "source": [
    "image.imread('s3://cornea-bucket/Scan050/Fused_ZSeries-11062016-1603-050.tif')"
   ]
  },
  {
   "cell_type": "markdown",
   "metadata": {},
   "source": [
    "With scikit-image `imread` function we can directly read the file from the web address but it takes long time to read it."
   ]
  },
  {
   "cell_type": "code",
   "execution_count": null,
   "metadata": {},
   "outputs": [],
   "source": [
    "# try using requests\n",
    "import requests\n",
    "resp = requests.get('http://cornea-bucket.s3.amazonaws.com/Scan050/Fused_ZSeries-11062016-1603-050.tif')\n",
    "tif = tifffile.TiffFile(io.BytesIO(resp.content))\n",
    "\n",
    "# note: seems to work but it takes very long time"
   ]
  },
  {
   "cell_type": "code",
   "execution_count": null,
   "metadata": {},
   "outputs": [],
   "source": []
  },
  {
   "cell_type": "code",
   "execution_count": null,
   "metadata": {},
   "outputs": [],
   "source": [
    "from skimage import io\n",
    "# im = io.imread('http://cornea-bucket.s3.amazonaws.com/Scan050/Fused_ZSeries-11062016-1603-050.tif')"
   ]
  },
  {
   "cell_type": "markdown",
   "metadata": {},
   "source": [
    "Looking carefully at the imread code, seems it creates a temporary file within the reading context. "
   ]
  },
  {
   "cell_type": "markdown",
   "metadata": {},
   "source": [
    "With dask imread function we cannot read directly from the web address:"
   ]
  },
  {
   "cell_type": "code",
   "execution_count": null,
   "metadata": {},
   "outputs": [],
   "source": [
    "import dask\n",
    "from dask.array import image"
   ]
  },
  {
   "cell_type": "code",
   "execution_count": null,
   "metadata": {},
   "outputs": [],
   "source": [
    "im = image.imread('http://cornea-bucket.s3.amazonaws.com/Scan050/Fused_ZSeries-11062016-1603-050.tif')"
   ]
  },
  {
   "cell_type": "markdown",
   "metadata": {},
   "source": [
    "What about the new `dask-image` package?"
   ]
  },
  {
   "cell_type": "code",
   "execution_count": null,
   "metadata": {
    "scrolled": true
   },
   "outputs": [],
   "source": [
    "!conda install -c conda-forge --yes dask-image"
   ]
  },
  {
   "cell_type": "code",
   "execution_count": null,
   "metadata": {},
   "outputs": [],
   "source": [
    "from dask_image import imread"
   ]
  },
  {
   "cell_type": "code",
   "execution_count": null,
   "metadata": {},
   "outputs": [],
   "source": [
    "im = imread.imread('s3://cornea-bucket/Scan050/Fused_ZSeries-11062016-1603-050.tif')"
   ]
  },
  {
   "cell_type": "code",
   "execution_count": null,
   "metadata": {},
   "outputs": [],
   "source": [
    "url = s3.generate_presigned_url(ClientMethod='get_object', Params=params)"
   ]
  },
  {
   "cell_type": "code",
   "execution_count": null,
   "metadata": {},
   "outputs": [],
   "source": [
    "df = process_tif(file.key)\n",
    "df.to_csv('inventory.csv',mode = 'a')"
   ]
  },
  {
   "cell_type": "code",
   "execution_count": null,
   "metadata": {},
   "outputs": [],
   "source": [
    "exclude = False\n",
    "for name in exclude_list:\n",
    "    if name in 'Holco_Scan53_fly1_eye1/Fused_ZSeries-11072016-1000-053_crop8bit0007.tif':\n",
    "        exclude = True"
   ]
  },
  {
   "cell_type": "code",
   "execution_count": null,
   "metadata": {},
   "outputs": [],
   "source": [
    "test_name = 'data/Scan050/Fused_ZSeries-11062016-1603-050.tif'"
   ]
  },
  {
   "cell_type": "code",
   "execution_count": null,
   "metadata": {},
   "outputs": [],
   "source": [
    "process_tif(test_name)"
   ]
  },
  {
   "cell_type": "code",
   "execution_count": null,
   "metadata": {},
   "outputs": [],
   "source": [
    "tif = tifffile.TiffFile(test_name)\n",
    "print(len(tif.series))\n",
    "for s in tif.series:\n",
    "    print(s[0])\n",
    "    \n",
    "    "
   ]
  },
  {
   "cell_type": "code",
   "execution_count": null,
   "metadata": {
    "scrolled": true
   },
   "outputs": [],
   "source": [
    "with tifffile.TiffFile(test_name) as tif:\n",
    "\n",
    "    d = {}\n",
    "    for page in tif:\n",
    "        for tag in page.tags.values():\n",
    "            if tag.name == 'image_description':\n",
    "                for item in tag.value.decode('ASCII').split('\\n')[:-1]:\n",
    "                    key, value = item.split('=')\n",
    "                    d[key] = value\n",
    "            else:\n",
    "                d[tag.name] = tag.value\n",
    "                    \n",
    "d"
   ]
  },
  {
   "cell_type": "code",
   "execution_count": null,
   "metadata": {},
   "outputs": [],
   "source": [
    "metadata = read_metadata(test_name)\n",
    "metadata\n"
   ]
  },
  {
   "cell_type": "code",
   "execution_count": null,
   "metadata": {},
   "outputs": [],
   "source": [
    "small_d = {}\n",
    "for key in ['image_width','image_length','channels','slices']:\n",
    "    small_d[key] = d[key]"
   ]
  },
  {
   "cell_type": "code",
   "execution_count": null,
   "metadata": {},
   "outputs": [],
   "source": []
  },
  {
   "cell_type": "markdown",
   "metadata": {},
   "source": []
  },
  {
   "cell_type": "code",
   "execution_count": null,
   "metadata": {},
   "outputs": [],
   "source": [
    "pd.DataFrame(small_d,index=[test_name])"
   ]
  },
  {
   "cell_type": "markdown",
   "metadata": {},
   "source": [
    "How should I store the metadata? csv? the name of the file and the size will be nice to have."
   ]
  },
  {
   "cell_type": "code",
   "execution_count": null,
   "metadata": {},
   "outputs": [],
   "source": [
    "for item in d['image_description'].decode('ASCII').split('\\n'):\n",
    "    key, value = item.split('=')\n",
    "    d[key] = value\n",
    "    "
   ]
  },
  {
   "cell_type": "code",
   "execution_count": null,
   "metadata": {},
   "outputs": [],
   "source": [
    "# something is wrong with reading \n",
    "# A_Fused_ZSeries-11242017-0953-233_Crop.tif\n",
    "# invalid TIFF file error"
   ]
  },
  {
   "cell_type": "code",
   "execution_count": null,
   "metadata": {},
   "outputs": [],
   "source": [
    "# what is rows per strip???\n",
    "# the number of images is image_description tag within the string"
   ]
  },
  {
   "cell_type": "code",
   "execution_count": null,
   "metadata": {},
   "outputs": [],
   "source": [
    "#!pip install exifread #not available in conda"
   ]
  },
  {
   "cell_type": "code",
   "execution_count": null,
   "metadata": {},
   "outputs": [],
   "source": [
    "import exifread\n",
    "f = open(test_name, 'rb')\n",
    "\n",
    "# Return Exif tags\n",
    "tags = exifread.process_file(f)\n",
    "\n",
    "# Print the tag/ value pairs\n",
    "for tag in tags.keys():\n",
    "    if tag not in ('JPEGThumbnail', 'TIFFThumbnail', 'EXIF MakerNote'):\n",
    "        print (\"Key: %s, value %s\" % (tag, tags[tag]))"
   ]
  },
  {
   "cell_type": "code",
   "execution_count": null,
   "metadata": {},
   "outputs": [],
   "source": [
    "# I would also like the order xyzc, the dimensions, memmappable"
   ]
  },
  {
   "cell_type": "code",
   "execution_count": null,
   "metadata": {},
   "outputs": [],
   "source": [
    "from skimage.io import imread"
   ]
  },
  {
   "cell_type": "code",
   "execution_count": null,
   "metadata": {},
   "outputs": [],
   "source": [
    "# im = imread(test_name) # memmory error"
   ]
  },
  {
   "cell_type": "markdown",
   "metadata": {},
   "source": [
    "Variables I want:\n",
    "\n",
    "* Image ImageWidth (image_width)\n",
    "* Image ImageLength (image_length)\n",
    "* Image RowsPerStrip\n",
    "* channel?\n",
    "\n",
    "This sort of defines the order\n",
    "* memmappable?\n",
    "\n",
    "\n",
    "multipage? hypestack?\n"
   ]
  },
  {
   "cell_type": "markdown",
   "metadata": {},
   "source": [
    "imagej channels has colors: how do I extract it?\n"
   ]
  },
  {
   "cell_type": "code",
   "execution_count": null,
   "metadata": {},
   "outputs": [],
   "source": []
  },
  {
   "cell_type": "code",
   "execution_count": null,
   "metadata": {},
   "outputs": [],
   "source": []
  }
 ],
 "metadata": {
  "kernelspec": {
   "display_name": "Python 3",
   "language": "python",
   "name": "python3"
  },
  "language_info": {
   "codemirror_mode": {
    "name": "ipython",
    "version": 3
   },
   "file_extension": ".py",
   "mimetype": "text/x-python",
   "name": "python",
   "nbconvert_exporter": "python",
   "pygments_lexer": "ipython3",
   "version": "3.6.5"
  }
 },
 "nbformat": 4,
 "nbformat_minor": 2
}
